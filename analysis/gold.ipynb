{
 "cells": [
  {
   "cell_type": "code",
   "execution_count": 0,
   "metadata": {
    "application/vnd.databricks.v1+cell": {
     "cellMetadata": {
      "byteLimit": 2048000,
      "rowLimit": 10000
     },
     "inputWidgets": {},
     "nuid": "f75bba30-f396-456f-b26f-89fa0e72a9d1",
     "showTitle": false,
     "tableResultSettingsMap": {},
     "title": ""
    }
   },
   "outputs": [],
   "source": [
    "#importacao das libs\n",
    "\n",
    "from pyspark.sql.functions import month, year, avg, hour, round\n",
    "from pyspark.sql.functions import col"
   ]
  },
  {
   "cell_type": "markdown",
   "metadata": {
    "application/vnd.databricks.v1+cell": {
     "cellMetadata": {},
     "inputWidgets": {},
     "nuid": "8e296aa3-979d-435a-85eb-277ab31889a3",
     "showTitle": false,
     "tableResultSettingsMap": {},
     "title": ""
    }
   },
   "source": [
    "### Leitura do arquivo delta ###"
   ]
  },
  {
   "cell_type": "code",
   "execution_count": 0,
   "metadata": {
    "application/vnd.databricks.v1+cell": {
     "cellMetadata": {
      "byteLimit": 2048000,
      "rowLimit": 10000
     },
     "inputWidgets": {},
     "nuid": "60c717f6-3307-43bc-b666-59f88bbb3f24",
     "showTitle": false,
     "tableResultSettingsMap": {},
     "title": ""
    }
   },
   "outputs": [],
   "source": [
    "df = spark.read.format(\"delta\").load(\"s3a://bucket-taxi-project/consumption/taxi/\")"
   ]
  },
  {
   "cell_type": "code",
   "execution_count": 0,
   "metadata": {
    "application/vnd.databricks.v1+cell": {
     "cellMetadata": {
      "byteLimit": 2048000,
      "rowLimit": 10000
     },
     "inputWidgets": {},
     "nuid": "50be9f9d-2574-445e-af88-5aa6b489ff18",
     "showTitle": false,
     "tableResultSettingsMap": {},
     "title": ""
    }
   },
   "outputs": [],
   "source": [
    "df_geral = df.write.format(\"delta\").mode(\"overwrite\").saveAsTable(\"gold.taxi_2023\")"
   ]
  },
  {
   "cell_type": "markdown",
   "metadata": {
    "application/vnd.databricks.v1+cell": {
     "cellMetadata": {
      "byteLimit": 2048000,
      "rowLimit": 10000
     },
     "inputWidgets": {},
     "nuid": "588690a0-1469-40b7-8fee-c34616b6f7ee",
     "showTitle": false,
     "tableResultSettingsMap": {},
     "title": ""
    }
   },
   "source": [
    "### Pergunta: Qual a média de valor total (total\\_amount) recebido em um mês considerando todos os yellow táxis da frota? ###"
   ]
  },
  {
   "cell_type": "code",
   "execution_count": 0,
   "metadata": {
    "application/vnd.databricks.v1+cell": {
     "cellMetadata": {
      "byteLimit": 2048000,
      "rowLimit": 10000
     },
     "inputWidgets": {},
     "nuid": "1ffa4a08-e4c0-4b12-9bae-2a54dc8158af",
     "showTitle": false,
     "tableResultSettingsMap": {},
     "title": ""
    }
   },
   "outputs": [],
   "source": [
    "# Adiciona colunas de ano e mês\n",
    "df_mes = df.withColumn(\"ano\", year(\"pickup_ts\")) \\\n",
    "           .withColumn(\"mes\", month(\"pickup_ts\"))"
   ]
  },
  {
   "cell_type": "code",
   "execution_count": 0,
   "metadata": {
    "application/vnd.databricks.v1+cell": {
     "cellMetadata": {
      "byteLimit": 2048000,
      "rowLimit": 10000
     },
     "inputWidgets": {},
     "nuid": "a4d15ffb-3104-4bc7-867c-ea34ea79cb8b",
     "showTitle": false,
     "tableResultSettingsMap": {},
     "title": ""
    }
   },
   "outputs": [],
   "source": [
    "# Agrupa por ano e mês e calcula a média\n",
    "df_media_mensal = df_mes.groupBy(\"ano\", \"mes\") \\\n",
    "                        .agg(round(avg(\"total_amount\"),2).alias(\"media_total_amount\"))\n",
    "df_media_mensal.createOrReplaceTempView(\"df_media_mensal\")"
   ]
  },
  {
   "cell_type": "code",
   "execution_count": 0,
   "metadata": {
    "application/vnd.databricks.v1+cell": {
     "cellMetadata": {
      "byteLimit": 2048000,
      "rowLimit": 10000
     },
     "inputWidgets": {},
     "nuid": "d71c23b8-93a8-4ade-8d02-2983d4092298",
     "showTitle": false,
     "tableResultSettingsMap": {},
     "title": ""
    }
   },
   "outputs": [],
   "source": [
    "# Realiza a ordenação e salva no schema Gold\n",
    "df_media_mensal = spark.sql(\"\"\"\n",
    "                              select\n",
    "                              *\n",
    "                              from df_media_mensal\n",
    "                              order by ano, mes\n",
    "                              \"\"\")\n",
    "df_media_mensal.write.format(\"delta\").option(\"mergeSchema\",\"True\").mode(\"overwrite\").saveAsTable(\"gold.media_mensal\")"
   ]
  },
  {
   "cell_type": "code",
   "execution_count": 0,
   "metadata": {
    "application/vnd.databricks.v1+cell": {
     "cellMetadata": {
      "byteLimit": 2048000,
      "implicitDf": true,
      "rowLimit": 10000
     },
     "inputWidgets": {},
     "nuid": "4a29ee68-a0d8-4993-9cb6-468cba9f279a",
     "showTitle": false,
     "tableResultSettingsMap": {},
     "title": ""
    }
   },
   "outputs": [],
   "source": [
    "%sql\n",
    "select * from gold.media_mensal"
   ]
  },
  {
   "cell_type": "markdown",
   "metadata": {
    "application/vnd.databricks.v1+cell": {
     "cellMetadata": {
      "byteLimit": 2048000,
      "rowLimit": 10000
     },
     "inputWidgets": {},
     "nuid": "b54a0786-8fcb-4e40-9b71-44eff687ad21",
     "showTitle": false,
     "tableResultSettingsMap": {},
     "title": ""
    }
   },
   "source": [
    "### Pergunta: Qual a média de passageiros (passenger\\_count) por cada hora do dia que pegaram táxi no mês de maio considerando todos os táxis da frota? ###"
   ]
  },
  {
   "cell_type": "code",
   "execution_count": 0,
   "metadata": {
    "application/vnd.databricks.v1+cell": {
     "cellMetadata": {
      "byteLimit": 2048000,
      "rowLimit": 10000
     },
     "inputWidgets": {},
     "nuid": "fa9d6eef-5310-44fc-ba43-e44c0decca3c",
     "showTitle": false,
     "tableResultSettingsMap": {},
     "title": ""
    }
   },
   "outputs": [],
   "source": [
    "# Filtra apenas o mês solicitado (maio)\n",
    "df_maio = df.filter(\n",
    "    (year(\"pickup_ts\") == 2023) &\n",
    "    (month(\"pickup_ts\") == 5))"
   ]
  },
  {
   "cell_type": "code",
   "execution_count": 0,
   "metadata": {
    "application/vnd.databricks.v1+cell": {
     "cellMetadata": {
      "byteLimit": 2048000,
      "rowLimit": 10000
     },
     "inputWidgets": {},
     "nuid": "00c2d875-a97c-4e42-bc1c-e13a3e053922",
     "showTitle": false,
     "tableResultSettingsMap": {},
     "title": ""
    }
   },
   "outputs": [],
   "source": [
    "# Adiciona a hora, conforme a coluna de pickup_ts e salva no schema Gold\n",
    "df_maio_hora = df_maio.withColumn(\"hora_dia\", hour(\"pickup_ts\"))\n",
    "df_maio_hora.write.format(\"delta\").mode(\"overwrite\").option(\"mergeSchema\", \"true\").saveAsTable(\"gold.taxi_hora\")"
   ]
  },
  {
   "cell_type": "code",
   "execution_count": 0,
   "metadata": {
    "application/vnd.databricks.v1+cell": {
     "cellMetadata": {
      "byteLimit": 2048000,
      "rowLimit": 10000
     },
     "inputWidgets": {},
     "nuid": "9b759274-bc58-456d-b0d0-5c496d787656",
     "showTitle": false,
     "tableResultSettingsMap": {},
     "title": ""
    }
   },
   "outputs": [],
   "source": [
    "# Realiza a média de passageiros por hora\n",
    "df_media_passageiros_por_hora = spark.sql(\"\"\"\n",
    "                                          select hora_dia,round(avg(passenger_count),2) as media_passageiros\n",
    "                                          from gold.taxi_hora\n",
    "                                          group by hora_dia\n",
    "                                          order by hora_dia\n",
    "                                          \"\"\")\n",
    "df_media_passageiros_por_hora.write.format(\"delta\").option(\"mergeSchema\",\"True\").mode(\"overwrite\").saveAsTable(\"gold.media_passageiros_por_hora\")\n"
   ]
  },
  {
   "cell_type": "code",
   "execution_count": 0,
   "metadata": {
    "application/vnd.databricks.v1+cell": {
     "cellMetadata": {
      "byteLimit": 2048000,
      "implicitDf": true,
      "rowLimit": 10000
     },
     "inputWidgets": {},
     "nuid": "5d46e2f0-51c2-43f2-b6ac-f1f524cf1056",
     "showTitle": false,
     "tableResultSettingsMap": {},
     "title": ""
    }
   },
   "outputs": [],
   "source": [
    "%sql\n",
    "select * from gold.media_passageiros_por_hora"
   ]
  },
  {
   "cell_type": "code",
   "execution_count": 0,
   "metadata": {
    "application/vnd.databricks.v1+cell": {
     "cellMetadata": {
      "byteLimit": 2048000,
      "rowLimit": 10000
     },
     "inputWidgets": {},
     "nuid": "ab972dee-42d3-48bb-9734-a56a6fc2d1af",
     "showTitle": false,
     "tableResultSettingsMap": {},
     "title": ""
    }
   },
   "outputs": [],
   "source": [
    "# Realiza a média de passageiros por hora agrupando por VendorID\n",
    "df_media_passageiros_por_hora_por_id = spark.sql(\"\"\"\n",
    "                                          select hora_dia,round(avg(passenger_count),2) as media_passageiros, id \n",
    "                                          from gold.taxi_hora\n",
    "                                          group by hora_dia, id\n",
    "                                          order by hora_dia, id\n",
    "                                          \"\"\")\n",
    "df_media_passageiros_por_hora_por_id.write.format(\"delta\").option(\"mergeSchema\",\"True\").mode(\"overwrite\").saveAsTable(\"gold.media_passageiros_por_hora_por_id\")"
   ]
  },
  {
   "cell_type": "code",
   "execution_count": 0,
   "metadata": {
    "application/vnd.databricks.v1+cell": {
     "cellMetadata": {
      "byteLimit": 2048000,
      "implicitDf": true,
      "rowLimit": 10000
     },
     "collapsed": true,
     "inputWidgets": {},
     "nuid": "9959e9b2-aea2-4860-88d2-5e8284552041",
     "showTitle": false,
     "tableResultSettingsMap": {},
     "title": ""
    }
   },
   "outputs": [],
   "source": [
    "%sql\n",
    "select * from gold.media_passageiros_por_hora_por_id"
   ]
  },
  {
   "cell_type": "markdown",
   "metadata": {
    "application/vnd.databricks.v1+cell": {
     "cellMetadata": {},
     "inputWidgets": {},
     "nuid": "208bc038-0c95-497b-87e2-8f9dcca25444",
     "showTitle": false,
     "tableResultSettingsMap": {},
     "title": ""
    }
   },
   "source": [
    "### Análises ###"
   ]
  },
  {
   "cell_type": "code",
   "execution_count": 0,
   "metadata": {
    "application/vnd.databricks.v1+cell": {
     "cellMetadata": {
      "byteLimit": 2048000,
      "rowLimit": 10000
     },
     "inputWidgets": {},
     "nuid": "d1f56089-cac3-4dab-8609-2f39997d0fa2",
     "showTitle": false,
     "tableResultSettingsMap": {},
     "title": ""
    }
   },
   "outputs": [],
   "source": [
    " # Duração média das corridas por hora em maio 2023\n",
    "query_duracao_media_corridas = spark.sql(\"\"\"\n",
    "                                          SELECT \n",
    "                                          hora_dia,\n",
    "                                          ROUND(AVG(UNIX_TIMESTAMP(dropoff_ts) - UNIX_TIMESTAMP(pickup_ts)) / 60, 2) AS duracao_media_min\n",
    "                                          FROM gold.taxi_hora\n",
    "                                          GROUP BY hora_dia\n",
    "                                          ORDER BY hora_dia\n",
    "                                          \"\"\")\n",
    "query_duracao_media_corridas.show()"
   ]
  },
  {
   "cell_type": "code",
   "execution_count": 0,
   "metadata": {
    "application/vnd.databricks.v1+cell": {
     "cellMetadata": {
      "byteLimit": 2048000,
      "rowLimit": 10000
     },
     "inputWidgets": {},
     "nuid": "eb7bb34f-bf02-489c-a365-6c0b79d010c8",
     "showTitle": false,
     "tableResultSettingsMap": {},
     "title": ""
    }
   },
   "outputs": [],
   "source": [
    " #  Média de passageiros por dia da semana dos meses de janeiro a maio de 2023\n",
    "query_media_passageiros = spark.sql(\"\"\"\n",
    "                                          SELECT \n",
    "                                          date_format(pickup_ts, 'E') AS dia_semana,\n",
    "                                          ROUND(AVG(passenger_count), 2) AS media_passageiros\n",
    "                                          FROM gold.taxi_2023\n",
    "                                          GROUP BY dia_semana\n",
    "                                          ORDER BY dia_semana\n",
    "                                          \"\"\")\n",
    "query_media_passageiros.show()"
   ]
  },
  {
   "cell_type": "code",
   "execution_count": 0,
   "metadata": {
    "application/vnd.databricks.v1+cell": {
     "cellMetadata": {
      "byteLimit": 2048000,
      "rowLimit": 10000
     },
     "inputWidgets": {},
     "nuid": "e65ba3f9-c705-47e9-a71f-acdc2f371ac9",
     "showTitle": false,
     "tableResultSettingsMap": {},
     "title": ""
    }
   },
   "outputs": [],
   "source": [
    " # Número de passageiros por dia da semana\n",
    "query_numero_passageiros = spark.sql(\"\"\"\n",
    "                                          SELECT \n",
    "                                          date_format(pickup_ts, 'E') AS dia_semana,\n",
    "                                          count(*) total_de_corridas\n",
    "                                          FROM gold.taxi_2023\n",
    "                                          where month(pickup_ts) = 3\n",
    "                                          GROUP BY dia_semana\n",
    "                                          ORDER BY dia_semana\n",
    "                                          \"\"\")\n",
    "query_numero_passageiros.show()"
   ]
  }
 ],
 "metadata": {
  "application/vnd.databricks.v1+notebook": {
   "computePreferences": null,
   "dashboards": [],
   "environmentMetadata": {
    "base_environment": "",
    "environment_version": "2"
   },
   "inputWidgetPreferences": null,
   "language": "python",
   "notebookMetadata": {
    "mostRecentlyExecutedCommandWithImplicitDF": {
     "commandId": 4933869789352414,
     "dataframes": [
      "_sqldf"
     ]
    },
    "pythonIndentUnit": 4
   },
   "notebookName": "gold",
   "widgets": {}
  },
  "language_info": {
   "name": "python"
  }
 },
 "nbformat": 4,
 "nbformat_minor": 0
}
