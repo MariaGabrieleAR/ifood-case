{
 "cells": [
  {
   "cell_type": "code",
   "execution_count": 0,
   "metadata": {
    "application/vnd.databricks.v1+cell": {
     "cellMetadata": {
      "byteLimit": 2048000,
      "rowLimit": 10000
     },
     "inputWidgets": {},
     "nuid": "e1c5f9e7-b77d-480d-a280-dd99f7f22f8f",
     "showTitle": false,
     "tableResultSettingsMap": {},
     "title": ""
    }
   },
   "outputs": [],
   "source": [
    "#importacao das libs\n",
    "\n",
    "from pyspark.sql.functions import month, year, avg, hour, round\n",
    "from pyspark.sql.functions import col"
   ]
  },
  {
   "cell_type": "code",
   "execution_count": 0,
   "metadata": {
    "application/vnd.databricks.v1+cell": {
     "cellMetadata": {
      "byteLimit": 2048000,
      "rowLimit": 10000
     },
     "inputWidgets": {},
     "nuid": "d0b8ef3e-abe3-411d-877b-642e169a94a7",
     "showTitle": false,
     "tableResultSettingsMap": {},
     "title": ""
    }
   },
   "outputs": [],
   "source": [
    " # Duração média das corridas por hora em maio 2023\n",
    "query_duracao_media_corridas = spark.sql(\"\"\"\n",
    "                                          SELECT \n",
    "                                          hora_dia,\n",
    "                                          ROUND(AVG(UNIX_TIMESTAMP(dropoff_ts) - UNIX_TIMESTAMP(pickup_ts)) / 60, 2) AS duracao_media_min\n",
    "                                          FROM gold.taxi_hora\n",
    "                                          GROUP BY hora_dia\n",
    "                                          ORDER BY hora_dia\n",
    "                                          \"\"\")\n",
    "query_duracao_media_corridas.show()"
   ]
  },
  {
   "cell_type": "code",
   "execution_count": 0,
   "metadata": {
    "application/vnd.databricks.v1+cell": {
     "cellMetadata": {},
     "inputWidgets": {},
     "nuid": "230df4c3-dc71-422b-86d1-f0c479e05efc",
     "showTitle": false,
     "tableResultSettingsMap": {},
     "title": ""
    }
   },
   "outputs": [],
   "source": [
    " #  Média de passageiros por dia da semana dos meses de janeiro a maio de 2023\n",
    "query_media_passageiros = spark.sql(\"\"\"\n",
    "                                          SELECT \n",
    "                                          date_format(pickup_ts, 'E') AS dia_semana,\n",
    "                                          ROUND(AVG(passenger_count), 2) AS media_passageiros\n",
    "                                          FROM gold.taxi_2023\n",
    "                                          GROUP BY dia_semana\n",
    "                                          ORDER BY dia_semana\n",
    "                                          \"\"\")\n",
    "query_media_passageiros.show()"
   ]
  },
  {
   "cell_type": "code",
   "execution_count": 0,
   "metadata": {
    "application/vnd.databricks.v1+cell": {
     "cellMetadata": {},
     "inputWidgets": {},
     "nuid": "45035921-2bd8-48e3-b0ac-7ba620a44d4f",
     "showTitle": false,
     "tableResultSettingsMap": {},
     "title": ""
    }
   },
   "outputs": [],
   "source": [
    " # Número de passageiros por dia da semana\n",
    "query_numero_passageiros = spark.sql(\"\"\"\n",
    "                                          SELECT \n",
    "                                          date_format(pickup_ts, 'E') AS dia_semana,\n",
    "                                          count(*) total_de_corridas\n",
    "                                          FROM gold.taxi_2023\n",
    "                                          where month(pickup_ts) = 3\n",
    "                                          GROUP BY dia_semana\n",
    "                                          ORDER BY dia_semana\n",
    "                                          \"\"\")\n",
    "query_numero_passageiros.show()"
   ]
  }
 ],
 "metadata": {
  "application/vnd.databricks.v1+notebook": {
   "computePreferences": null,
   "dashboards": [],
   "environmentMetadata": {
    "base_environment": "",
    "environment_version": "3"
   },
   "inputWidgetPreferences": null,
   "language": "python",
   "notebookMetadata": {
    "pythonIndentUnit": 4
   },
   "notebookName": "agg_avg_taxi",
   "widgets": {}
  },
  "language_info": {
   "name": "python"
  }
 },
 "nbformat": 4,
 "nbformat_minor": 0
}
