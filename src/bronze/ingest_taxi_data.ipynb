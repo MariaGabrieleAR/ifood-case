{
 "cells": [
  {
   "cell_type": "code",
   "execution_count": 0,
   "metadata": {
    "application/vnd.databricks.v1+cell": {
     "cellMetadata": {},
     "inputWidgets": {},
     "nuid": "d884d785-5fff-499d-b6b7-5d845ba51a41",
     "showTitle": false,
     "tableResultSettingsMap": {},
     "title": ""
    }
   },
   "outputs": [],
   "source": [
    "df_maio = spark.read.parquet(\"s3://bucket-taxi-project/raw/yellow_tripdata_2023-05.parquet\")\n",
    "\n",
    "df_maio = df_maio.select(\n",
    "    col(\"VendorID\").cast(IntegerType()),\n",
    "    col(\"passenger_count\").cast(IntegerType()),\n",
    "    col(\"total_amount\").cast(DoubleType()),\n",
    "    col(\"tpep_pickup_datetime\").cast(TimestampType()),\n",
    "    col(\"tpep_dropoff_datetime\").cast(TimestampType())\n",
    ").na.drop(subset=[\"VendorID\", \"passenger_count\", \"total_amount\", \n",
    "                  \"tpep_pickup_datetime\", \"tpep_dropoff_datetime\"])\n",
    "\n",
    "df_maio.write.format(\"delta\").mode(\"overwrite\").save(\"s3a://bucket-taxi-project/consumption/yellow_maio\")\n"
   ]
  },
  {
   "cell_type": "code",
   "execution_count": 0,
   "metadata": {
    "application/vnd.databricks.v1+cell": {
     "cellMetadata": {},
     "inputWidgets": {},
     "nuid": "e84020be-3b8a-48ae-b7f5-1f2f3d73110f",
     "showTitle": false,
     "tableResultSettingsMap": {},
     "title": ""
    }
   },
   "outputs": [],
   "source": [
    "df_abril = spark.read.parquet(\"s3://bucket-taxi-project/raw/yellow_tripdata_2023-04.parquet\")\n",
    "\n",
    "df_abril = df_abril.select(\n",
    "    col(\"VendorID\").cast(IntegerType()),\n",
    "    col(\"passenger_count\").cast(IntegerType()),\n",
    "    col(\"total_amount\").cast(DoubleType()),\n",
    "    col(\"tpep_pickup_datetime\").cast(TimestampType()),\n",
    "    col(\"tpep_dropoff_datetime\").cast(TimestampType())\n",
    ").na.drop(subset=[\"VendorID\", \"passenger_count\", \"total_amount\", \n",
    "                  \"tpep_pickup_datetime\", \"tpep_dropoff_datetime\"])\n",
    "df_abril.write.format(\"delta\").mode(\"overwrite\").save(\"s3a://bucket-taxi-project/consumption/yellow_abril\")"
   ]
  },
  {
   "cell_type": "code",
   "execution_count": 0,
   "metadata": {
    "application/vnd.databricks.v1+cell": {
     "cellMetadata": {},
     "inputWidgets": {},
     "nuid": "61ef7240-edcb-43da-ab08-e00ca5b1beb6",
     "showTitle": false,
     "tableResultSettingsMap": {},
     "title": ""
    }
   },
   "outputs": [],
   "source": [
    "df_janeiro = spark.read.parquet(\"s3://bucket-taxi-project/raw/yellow_tripdata_2023-01.parquet\")\n",
    "\n",
    "df_janeiro = df_janeiro.select(\n",
    "    col(\"VendorID\").cast(IntegerType()),\n",
    "    col(\"passenger_count\").cast(IntegerType()),\n",
    "    col(\"total_amount\").cast(DoubleType()),\n",
    "    col(\"tpep_pickup_datetime\").cast(TimestampType()),\n",
    "    col(\"tpep_dropoff_datetime\").cast(TimestampType())\n",
    ").na.drop(subset=[\"VendorID\", \"passenger_count\", \"total_amount\", \n",
    "                  \"tpep_pickup_datetime\", \"tpep_dropoff_datetime\"])\n",
    "\n",
    "df_janeiro.write.format(\"delta\").mode(\"overwrite\").save(\"s3a://bucket-taxi-project/consumption/yellow_janeiro\")"
   ]
  }
 ],
 "metadata": {
  "application/vnd.databricks.v1+notebook": {
   "computePreferences": null,
   "dashboards": [],
   "environmentMetadata": {
    "base_environment": "",
    "environment_version": "3"
   },
   "inputWidgetPreferences": null,
   "language": "python",
   "notebookMetadata": {
    "pythonIndentUnit": 4
   },
   "notebookName": "ingest_taxi_data",
   "widgets": {}
  },
  "language_info": {
   "name": "python"
  }
 },
 "nbformat": 4,
 "nbformat_minor": 0
}
